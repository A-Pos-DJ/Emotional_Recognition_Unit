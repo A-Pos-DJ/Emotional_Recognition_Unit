{
  "nbformat": 4,
  "nbformat_minor": 0,
  "metadata": {
    "colab": {
      "name": "Emotional_Recognition_Unit.ipynb",
      "provenance": [],
      "toc_visible": true
    },
    "kernelspec": {
      "name": "python3",
      "display_name": "Python 3"
    }
  },
  "cells": [
    {
      "cell_type": "code",
      "metadata": {
        "id": "73F5QRoSdZfd",
        "colab_type": "code",
        "outputId": "0f25af41-b788-48f1-9c39-b3076796b28d",
        "colab": {
          "base_uri": "https://localhost:8080/",
          "height": 904
        }
      },
      "source": [
        "#Import and initalization\n",
        "#from keras.models import load_model\n",
        "#import cv2\n",
        "#from scipy import misc\n",
        "#import numpy as np\n",
        "#import json\n",
        "#from pkg_resources import resource_filename\n",
        "!pip install EmoPy\n",
        "\n",
        "#Global Variables\n",
        "GOOGLE_COLAB = True\n",
        "RUNALL_FILE = \"run_all.py\""
      ],
      "execution_count": 1,
      "outputs": [
        {
          "output_type": "stream",
          "text": [
            "Requirement already satisfied: EmoPy in /usr/local/lib/python3.6/dist-packages (0.0.5)\n",
            "Requirement already satisfied: scipy>=0.19.1 in /usr/local/lib/python3.6/dist-packages (from EmoPy) (1.4.1)\n",
            "Requirement already satisfied: tensorflow>=1.10.1 in /usr/local/lib/python3.6/dist-packages (from EmoPy) (1.15.0)\n",
            "Requirement already satisfied: lasagne in /usr/local/lib/python3.6/dist-packages (from EmoPy) (0.1)\n",
            "Requirement already satisfied: scikit-neuralnetwork>=0.7 in /usr/local/lib/python3.6/dist-packages (from EmoPy) (0.7)\n",
            "Requirement already satisfied: scikit-image>=0.13.1 in /usr/local/lib/python3.6/dist-packages (from EmoPy) (0.16.2)\n",
            "Requirement already satisfied: numpy<=1.14.5,>=1.13.3 in /usr/local/lib/python3.6/dist-packages (from EmoPy) (1.14.5)\n",
            "Requirement already satisfied: scikit-learn>=0.19.1 in /usr/local/lib/python3.6/dist-packages (from EmoPy) (0.22.1)\n",
            "Requirement already satisfied: h5py in /usr/local/lib/python3.6/dist-packages (from EmoPy) (2.8.0)\n",
            "Requirement already satisfied: opencv-python in /usr/local/lib/python3.6/dist-packages (from EmoPy) (4.1.2.30)\n",
            "Requirement already satisfied: pytest in /usr/local/lib/python3.6/dist-packages (from EmoPy) (3.6.4)\n",
            "Requirement already satisfied: keras>=2.2.0 in /usr/local/lib/python3.6/dist-packages (from EmoPy) (2.2.5)\n",
            "Requirement already satisfied: graphviz in /usr/local/lib/python3.6/dist-packages (from EmoPy) (0.10.1)\n",
            "Requirement already satisfied: pydot in /usr/local/lib/python3.6/dist-packages (from EmoPy) (1.3.0)\n",
            "Requirement already satisfied: matplotlib>2.1.0 in /usr/local/lib/python3.6/dist-packages (from EmoPy) (3.1.3)\n",
            "Requirement already satisfied: keras-applications>=1.0.8 in /usr/local/lib/python3.6/dist-packages (from tensorflow>=1.10.1->EmoPy) (1.0.8)\n",
            "Requirement already satisfied: opt-einsum>=2.3.2 in /usr/local/lib/python3.6/dist-packages (from tensorflow>=1.10.1->EmoPy) (3.1.0)\n",
            "Requirement already satisfied: termcolor>=1.1.0 in /usr/local/lib/python3.6/dist-packages (from tensorflow>=1.10.1->EmoPy) (1.1.0)\n",
            "Requirement already satisfied: wheel>=0.26 in /usr/local/lib/python3.6/dist-packages (from tensorflow>=1.10.1->EmoPy) (0.34.2)\n",
            "Requirement already satisfied: six>=1.10.0 in /usr/local/lib/python3.6/dist-packages (from tensorflow>=1.10.1->EmoPy) (1.12.0)\n",
            "Requirement already satisfied: gast==0.2.2 in /usr/local/lib/python3.6/dist-packages (from tensorflow>=1.10.1->EmoPy) (0.2.2)\n",
            "Requirement already satisfied: wrapt>=1.11.1 in /usr/local/lib/python3.6/dist-packages (from tensorflow>=1.10.1->EmoPy) (1.11.2)\n",
            "Requirement already satisfied: protobuf>=3.6.1 in /usr/local/lib/python3.6/dist-packages (from tensorflow>=1.10.1->EmoPy) (3.10.0)\n",
            "Requirement already satisfied: tensorboard<1.16.0,>=1.15.0 in /usr/local/lib/python3.6/dist-packages (from tensorflow>=1.10.1->EmoPy) (1.15.0)\n",
            "Requirement already satisfied: tensorflow-estimator==1.15.1 in /usr/local/lib/python3.6/dist-packages (from tensorflow>=1.10.1->EmoPy) (1.15.1)\n",
            "Requirement already satisfied: absl-py>=0.7.0 in /usr/local/lib/python3.6/dist-packages (from tensorflow>=1.10.1->EmoPy) (0.9.0)\n",
            "Requirement already satisfied: grpcio>=1.8.6 in /usr/local/lib/python3.6/dist-packages (from tensorflow>=1.10.1->EmoPy) (1.27.1)\n",
            "Requirement already satisfied: astor>=0.6.0 in /usr/local/lib/python3.6/dist-packages (from tensorflow>=1.10.1->EmoPy) (0.8.1)\n",
            "Requirement already satisfied: keras-preprocessing>=1.0.5 in /usr/local/lib/python3.6/dist-packages (from tensorflow>=1.10.1->EmoPy) (1.1.0)\n",
            "Requirement already satisfied: google-pasta>=0.1.6 in /usr/local/lib/python3.6/dist-packages (from tensorflow>=1.10.1->EmoPy) (0.1.8)\n",
            "Requirement already satisfied: Theano>=0.8 in /usr/local/lib/python3.6/dist-packages (from scikit-neuralnetwork>=0.7->EmoPy) (1.0.4)\n",
            "Requirement already satisfied: imageio>=2.3.0 in /usr/local/lib/python3.6/dist-packages (from scikit-image>=0.13.1->EmoPy) (2.4.1)\n",
            "Requirement already satisfied: networkx>=2.0 in /usr/local/lib/python3.6/dist-packages (from scikit-image>=0.13.1->EmoPy) (2.4)\n",
            "Requirement already satisfied: PyWavelets>=0.4.0 in /usr/local/lib/python3.6/dist-packages (from scikit-image>=0.13.1->EmoPy) (1.1.1)\n",
            "Requirement already satisfied: pillow>=4.3.0 in /usr/local/lib/python3.6/dist-packages (from scikit-image>=0.13.1->EmoPy) (6.2.2)\n",
            "Requirement already satisfied: joblib>=0.11 in /usr/local/lib/python3.6/dist-packages (from scikit-learn>=0.19.1->EmoPy) (0.14.1)\n",
            "Requirement already satisfied: py>=1.5.0 in /usr/local/lib/python3.6/dist-packages (from pytest->EmoPy) (1.8.1)\n",
            "Requirement already satisfied: attrs>=17.4.0 in /usr/local/lib/python3.6/dist-packages (from pytest->EmoPy) (19.3.0)\n",
            "Requirement already satisfied: atomicwrites>=1.0 in /usr/local/lib/python3.6/dist-packages (from pytest->EmoPy) (1.3.0)\n",
            "Requirement already satisfied: pluggy<0.8,>=0.5 in /usr/local/lib/python3.6/dist-packages (from pytest->EmoPy) (0.7.1)\n",
            "Requirement already satisfied: more-itertools>=4.0.0 in /usr/local/lib/python3.6/dist-packages (from pytest->EmoPy) (8.2.0)\n",
            "Requirement already satisfied: setuptools in /usr/local/lib/python3.6/dist-packages (from pytest->EmoPy) (45.1.0)\n",
            "Requirement already satisfied: pyyaml in /usr/local/lib/python3.6/dist-packages (from keras>=2.2.0->EmoPy) (3.13)\n",
            "Requirement already satisfied: pyparsing>=2.1.4 in /usr/local/lib/python3.6/dist-packages (from pydot->EmoPy) (2.4.6)\n",
            "Requirement already satisfied: cycler>=0.10 in /usr/local/lib/python3.6/dist-packages (from matplotlib>2.1.0->EmoPy) (0.10.0)\n",
            "Requirement already satisfied: kiwisolver>=1.0.1 in /usr/local/lib/python3.6/dist-packages (from matplotlib>2.1.0->EmoPy) (1.1.0)\n",
            "Requirement already satisfied: python-dateutil>=2.1 in /usr/local/lib/python3.6/dist-packages (from matplotlib>2.1.0->EmoPy) (2.6.1)\n",
            "Requirement already satisfied: werkzeug>=0.11.15 in /usr/local/lib/python3.6/dist-packages (from tensorboard<1.16.0,>=1.15.0->tensorflow>=1.10.1->EmoPy) (1.0.0)\n",
            "Requirement already satisfied: markdown>=2.6.8 in /usr/local/lib/python3.6/dist-packages (from tensorboard<1.16.0,>=1.15.0->tensorflow>=1.10.1->EmoPy) (3.2.1)\n",
            "Requirement already satisfied: decorator>=4.3.0 in /usr/local/lib/python3.6/dist-packages (from networkx>=2.0->scikit-image>=0.13.1->EmoPy) (4.4.1)\n"
          ],
          "name": "stdout"
        }
      ]
    },
    {
      "cell_type": "code",
      "metadata": {
        "id": "n3SFtK5Zd1AY",
        "colab_type": "code",
        "outputId": "c450f4e3-7d1a-440b-c5f8-1adf97fc06f6",
        "colab": {
          "base_uri": "https://localhost:8080/",
          "height": 72
        }
      },
      "source": [
        "if GOOGLE_COLAB:\n",
        "    from google.colab import drive, files\n",
        "    drive.mount('/content/drive/')\n",
        "    path = \"/content/drive/My Drive/Colab_Notebooks/Emotional_Recognition_Unit/EmoPy-master/EmoPy/tests/\"\n",
        "\n",
        "#!python content/drive/My Drive/Colab_Notebooks/Emotional_Recognition_Unit/EmoPy-master/EmoPy/tests/run_all.py"
      ],
      "execution_count": 7,
      "outputs": [
        {
          "output_type": "stream",
          "text": [
            "Drive already mounted at /content/drive/; to attempt to forcibly remount, call drive.mount(\"/content/drive/\", force_remount=True).\n",
            "python3: can't open file 'content/drive/My': [Errno 2] No such file or directory\n"
          ],
          "name": "stdout"
        }
      ]
    }
  ]
}